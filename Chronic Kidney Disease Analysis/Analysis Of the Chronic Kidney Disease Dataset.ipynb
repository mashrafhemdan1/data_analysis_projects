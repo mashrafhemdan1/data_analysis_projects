{
 "cells": [
  {
   "cell_type": "markdown",
   "id": "distributed-greene",
   "metadata": {},
   "source": [
    "<h1><center>Analysis of the Chronic Kidney Disease Dataset</center></h1>\n",
    "<center>Applied Multivariate Analysis ----------------  Project One</center>\n",
    "<center>Mohamed Ashraf Hemdan ----------------   900171923</center>"
   ]
  },
  {
   "cell_type": "markdown",
   "id": "composite-vaccine",
   "metadata": {},
   "source": [
    "### Problem Statment"
   ]
  },
  {
   "cell_type": "markdown",
   "id": "caring-ukraine",
   "metadata": {},
   "source": [
    "###### Background\n",
    "The chronic kidney disease (CKD) is a type of Kidney disease. The body is characterized by a gradual loss of function. Symptoms include tiredness, loss of appetite, vomiting, and leg swelling. The disease may increase the risk of getting a heart disease or a high blood pressue. Causes of this disease may be due to diabetes or high blood pressure.\n",
    "At the begining of the disease, there are no symptoms at all. The symptoms begin to appear later and certain screening processes can be made to detect it."
   ]
  },
  {
   "cell_type": "markdown",
   "id": "august-eugene",
   "metadata": {},
   "source": [
    "###### Questions to be answered:\n",
    "(a)Based on the variables we have, are the available variables sufficient to differentiate between the two groups of people (those who has CKD and those who do not?<br> \n",
    "(b)Does Age contribute or relate to having a CKD?<br>\n",
    "(c)Does Blood Pressure relate or contribute to having a CKD?<br>"
   ]
  },
  {
   "cell_type": "markdown",
   "id": "pleased-prescription",
   "metadata": {},
   "source": [
    "### Data Description"
   ]
  },
  {
   "cell_type": "markdown",
   "id": "continental-holocaust",
   "metadata": {},
   "source": [
    "###### Data Source:\n",
    "This dataset is adapted from the Machine Learning Repository from the University of Calinformia, Irvine. The data is originally collected from from the Apollo Hosbitals in Tamilnadu, India by Dr. P. Soundarapandian which is a Senior Consultant Nephologist. The dataset is created by a Research Scholar in the Alagappa University called L. Jerlin Rubini whose was guided by Dr. P. Eswaran in the Department of Computer Science and Engineering at the same university. \n",
    "Here is a link to the dataset: https://archive.ics.uci.edu/ml/datasets/chronic_kidney_disease"
   ]
  },
  {
   "cell_type": "markdown",
   "id": "seven-allergy",
   "metadata": {},
   "source": [
    "###### Observations:\n",
    "Observations are made for each person. Some of them got the Chronic Kidney Disease and some did not. Certain properties were measuresd which are described below. The total number of observations are 400: 250 are CKD cases and 150 are non CKD cases. Around 25 variables were measured for each case."
   ]
  },
  {
   "cell_type": "markdown",
   "id": "minus-thesaurus",
   "metadata": {},
   "source": [
    "###### Variable Description:\n",
    "| Variable | Full Name | Type | Unit/categories |\n",
    "| --- | --- | --- | --- |\n",
    "| id | Identification Number | Numeric | No Unit |\n",
    "| age | Age | Numeric | Years |\n",
    "| bp | Blood Pressure | Numerical | mm/Hg |\n",
    "| sg | Specific Gravity | Nominal | (1.005,1.010,1.015,1.020,1.025) |\n",
    "| al | Albumin | Nominal | (0,1,2,3,4,5) |\n",
    "| su | Suger | Nominal | (0,1,2,3,4,5) |\n",
    "| rbc | Red Blood Cells | nominal | (normal,abnormal) |\n",
    "| pc | Pus Cell | nominal | (normal,abnormal) |\n",
    "| pcc | Pus Cell Clumps | nominal | (present,notpresent) |\n",
    "| ba | Bacteria | nominal | (present,notpresent) |\n",
    "| bgr | Blood Glucose Random | Numerical | mgs/dl |\n",
    "| bu | Blood Urea | Numerical | mgs/dl |\n",
    "| sc | Serum Creatinine | Numerical | mgs/dl |\n",
    "| sod | Sodium | Numerical | mEq/L |\n",
    "| pot | Potassium | Numerical | mEq/L |\n",
    "| hemo | Hemoglobin | Numerical | gms |\n",
    "| pcv | Packed Cell Volume | Numerical | No Unit |\n",
    "| wc | White Blood Cell Count | Numerical | cells/cumm |\n",
    "| rc | Red Blood Cell Count | Numerical | millions/cmm |\n",
    "| htn | Hypertension | Nominal | (yes,no) |\n",
    "| dm | Diabeteis Mellitus | Nominal | (yes,no) |\n",
    "| cad | Coronary Artery Disease | Nominal | (yes,no) |\n",
    "| appet | Appetite | Nominal | (good,poor) |\n",
    "| pe | Pedal Edema | Nominal | (yes,no) |\n",
    "| ane | Anemia | Nominal | (yes,no) |\n",
    "| classification | Class | Nominal | (ckd,notckd) |"
   ]
  },
  {
   "cell_type": "markdown",
   "id": "acting-narrow",
   "metadata": {},
   "source": [
    "### Data Analysis"
   ]
  },
  {
   "cell_type": "markdown",
   "id": "virtual-operation",
   "metadata": {},
   "source": [
    "###### Discovering the Dataset"
   ]
  },
  {
   "cell_type": "code",
   "execution_count": 39,
   "id": "catholic-level",
   "metadata": {},
   "outputs": [
    {
     "data": {
      "text/html": [
       "<ol class=list-inline>\n",
       "\t<li>400</li>\n",
       "\t<li>26</li>\n",
       "</ol>\n"
      ],
      "text/latex": [
       "\\begin{enumerate*}\n",
       "\\item 400\n",
       "\\item 26\n",
       "\\end{enumerate*}\n"
      ],
      "text/markdown": [
       "1. 400\n",
       "2. 26\n",
       "\n",
       "\n"
      ],
      "text/plain": [
       "[1] 400  26"
      ]
     },
     "metadata": {},
     "output_type": "display_data"
    },
    {
     "data": {
      "text/html": [
       "<ol class=list-inline>\n",
       "\t<li>'id'</li>\n",
       "\t<li>'age'</li>\n",
       "\t<li>'bp'</li>\n",
       "\t<li>'sg'</li>\n",
       "\t<li>'al'</li>\n",
       "\t<li>'su'</li>\n",
       "\t<li>'rbc'</li>\n",
       "\t<li>'pc'</li>\n",
       "\t<li>'pcc'</li>\n",
       "\t<li>'ba'</li>\n",
       "\t<li>'bgr'</li>\n",
       "\t<li>'bu'</li>\n",
       "\t<li>'sc'</li>\n",
       "\t<li>'sod'</li>\n",
       "\t<li>'pot'</li>\n",
       "\t<li>'hemo'</li>\n",
       "\t<li>'pcv'</li>\n",
       "\t<li>'wc'</li>\n",
       "\t<li>'rc'</li>\n",
       "\t<li>'htn'</li>\n",
       "\t<li>'dm'</li>\n",
       "\t<li>'cad'</li>\n",
       "\t<li>'appet'</li>\n",
       "\t<li>'pe'</li>\n",
       "\t<li>'ane'</li>\n",
       "\t<li>'classification'</li>\n",
       "</ol>\n"
      ],
      "text/latex": [
       "\\begin{enumerate*}\n",
       "\\item 'id'\n",
       "\\item 'age'\n",
       "\\item 'bp'\n",
       "\\item 'sg'\n",
       "\\item 'al'\n",
       "\\item 'su'\n",
       "\\item 'rbc'\n",
       "\\item 'pc'\n",
       "\\item 'pcc'\n",
       "\\item 'ba'\n",
       "\\item 'bgr'\n",
       "\\item 'bu'\n",
       "\\item 'sc'\n",
       "\\item 'sod'\n",
       "\\item 'pot'\n",
       "\\item 'hemo'\n",
       "\\item 'pcv'\n",
       "\\item 'wc'\n",
       "\\item 'rc'\n",
       "\\item 'htn'\n",
       "\\item 'dm'\n",
       "\\item 'cad'\n",
       "\\item 'appet'\n",
       "\\item 'pe'\n",
       "\\item 'ane'\n",
       "\\item 'classification'\n",
       "\\end{enumerate*}\n"
      ],
      "text/markdown": [
       "1. 'id'\n",
       "2. 'age'\n",
       "3. 'bp'\n",
       "4. 'sg'\n",
       "5. 'al'\n",
       "6. 'su'\n",
       "7. 'rbc'\n",
       "8. 'pc'\n",
       "9. 'pcc'\n",
       "10. 'ba'\n",
       "11. 'bgr'\n",
       "12. 'bu'\n",
       "13. 'sc'\n",
       "14. 'sod'\n",
       "15. 'pot'\n",
       "16. 'hemo'\n",
       "17. 'pcv'\n",
       "18. 'wc'\n",
       "19. 'rc'\n",
       "20. 'htn'\n",
       "21. 'dm'\n",
       "22. 'cad'\n",
       "23. 'appet'\n",
       "24. 'pe'\n",
       "25. 'ane'\n",
       "26. 'classification'\n",
       "\n",
       "\n"
      ],
      "text/plain": [
       " [1] \"id\"             \"age\"            \"bp\"             \"sg\"            \n",
       " [5] \"al\"             \"su\"             \"rbc\"            \"pc\"            \n",
       " [9] \"pcc\"            \"ba\"             \"bgr\"            \"bu\"            \n",
       "[13] \"sc\"             \"sod\"            \"pot\"            \"hemo\"          \n",
       "[17] \"pcv\"            \"wc\"             \"rc\"             \"htn\"           \n",
       "[21] \"dm\"             \"cad\"            \"appet\"          \"pe\"            \n",
       "[25] \"ane\"            \"classification\""
      ]
     },
     "metadata": {},
     "output_type": "display_data"
    }
   ],
   "source": [
    "df <- read.csv('kidney_disease.csv')\n",
    "dim(df)\n",
    "colnames(df)"
   ]
  },
  {
   "cell_type": "code",
   "execution_count": 40,
   "id": "expired-shell",
   "metadata": {},
   "outputs": [
    {
     "data": {
      "text/plain": [
       "       id              age              bp               sg       \n",
       " Min.   :  0.00   Min.   : 2.00   Min.   : 50.00   Min.   :1.005  \n",
       " 1st Qu.: 99.75   1st Qu.:42.00   1st Qu.: 70.00   1st Qu.:1.010  \n",
       " Median :199.50   Median :55.00   Median : 80.00   Median :1.020  \n",
       " Mean   :199.50   Mean   :51.48   Mean   : 76.47   Mean   :1.017  \n",
       " 3rd Qu.:299.25   3rd Qu.:64.50   3rd Qu.: 80.00   3rd Qu.:1.020  \n",
       " Max.   :399.00   Max.   :90.00   Max.   :180.00   Max.   :1.025  \n",
       "                  NA's   :9       NA's   :12       NA's   :47     \n",
       "       al              su               rbc             pc     \n",
       " Min.   :0.000   Min.   :0.0000           :152           : 65  \n",
       " 1st Qu.:0.000   1st Qu.:0.0000   abnormal: 47   abnormal: 76  \n",
       " Median :0.000   Median :0.0000   normal  :201   normal  :259  \n",
       " Mean   :1.017   Mean   :0.4501                                \n",
       " 3rd Qu.:2.000   3rd Qu.:0.0000                                \n",
       " Max.   :5.000   Max.   :5.0000                                \n",
       " NA's   :46      NA's   :49                                    \n",
       "         pcc               ba           bgr            bu        \n",
       "           :  4             :  4   Min.   : 22   Min.   :  1.50  \n",
       " notpresent:354   notpresent:374   1st Qu.: 99   1st Qu.: 27.00  \n",
       " present   : 42   present   : 22   Median :121   Median : 42.00  \n",
       "                                   Mean   :148   Mean   : 57.43  \n",
       "                                   3rd Qu.:163   3rd Qu.: 66.00  \n",
       "                                   Max.   :490   Max.   :391.00  \n",
       "                                   NA's   :44    NA's   :19      \n",
       "       sc              sod             pot              hemo      \n",
       " Min.   : 0.400   Min.   :  4.5   Min.   : 2.500   Min.   : 3.10  \n",
       " 1st Qu.: 0.900   1st Qu.:135.0   1st Qu.: 3.800   1st Qu.:10.30  \n",
       " Median : 1.300   Median :138.0   Median : 4.400   Median :12.65  \n",
       " Mean   : 3.072   Mean   :137.5   Mean   : 4.627   Mean   :12.53  \n",
       " 3rd Qu.: 2.800   3rd Qu.:142.0   3rd Qu.: 4.900   3rd Qu.:15.00  \n",
       " Max.   :76.000   Max.   :163.0   Max.   :47.000   Max.   :17.80  \n",
       " NA's   :17       NA's   :87      NA's   :88       NA's   :52     \n",
       "      pcv            wc            rc       htn         dm       cad     \n",
       "        : 70          :105          :130      :  2       :  2      :  2  \n",
       " 41     : 21   9800   : 11   5.2    : 18   no :251    yes:  1   \\tno:  2  \n",
       " 52     : 21   6700   : 10   4.5    : 16   yes:147   \\tno :  3   no :362  \n",
       " 44     : 19   7200   :  9   4.9    : 14             \\tyes:  2   yes: 34  \n",
       " 48     : 19   9200   :  9   4.7    : 11             no  :258            \n",
       " 40     : 16   9600   :  9   3.9    : 10             yes :134            \n",
       " (Other):234   (Other):247   (Other):201                                 \n",
       "  appet       pe       ane      classification\n",
       "     :  1      :  1      :  1   ckd   :248    \n",
       " good:317   no :323   no :339   ckd\\t  :  2    \n",
       " poor: 82   yes: 76   yes: 60   notckd:150    \n",
       "                                              \n",
       "                                              \n",
       "                                              \n",
       "                                              "
      ]
     },
     "metadata": {},
     "output_type": "display_data"
    }
   ],
   "source": [
    "summary(df)"
   ]
  },
  {
   "cell_type": "code",
   "execution_count": 41,
   "id": "guilty-network",
   "metadata": {},
   "outputs": [
    {
     "name": "stdout",
     "output_type": "stream",
     "text": [
      "'data.frame':\t400 obs. of  26 variables:\n",
      " $ id            : int  0 1 2 3 4 5 6 7 8 9 ...\n",
      " $ age           : num  48 7 62 48 51 60 68 24 52 53 ...\n",
      " $ bp            : num  80 50 80 70 80 90 70 NA 100 90 ...\n",
      " $ sg            : num  1.02 1.02 1.01 1 1.01 ...\n",
      " $ al            : num  1 4 2 4 2 3 0 2 3 2 ...\n",
      " $ su            : num  0 0 3 0 0 0 0 4 0 0 ...\n",
      " $ rbc           : Factor w/ 3 levels \"\",\"abnormal\",..: 1 1 3 3 3 1 1 3 3 2 ...\n",
      " $ pc            : Factor w/ 3 levels \"\",\"abnormal\",..: 3 3 3 2 3 1 3 2 2 2 ...\n",
      " $ pcc           : Factor w/ 3 levels \"\",\"notpresent\",..: 2 2 2 3 2 2 2 2 3 3 ...\n",
      " $ ba            : Factor w/ 3 levels \"\",\"notpresent\",..: 2 2 2 2 2 2 2 2 2 2 ...\n",
      " $ bgr           : num  121 NA 423 117 106 74 100 410 138 70 ...\n",
      " $ bu            : num  36 18 53 56 26 25 54 31 60 107 ...\n",
      " $ sc            : num  1.2 0.8 1.8 3.8 1.4 1.1 24 1.1 1.9 7.2 ...\n",
      " $ sod           : num  NA NA NA 111 NA 142 104 NA NA 114 ...\n",
      " $ pot           : num  NA NA NA 2.5 NA 3.2 4 NA NA 3.7 ...\n",
      " $ hemo          : num  15.4 11.3 9.6 11.2 11.6 12.2 12.4 12.4 10.8 9.5 ...\n",
      " $ pcv           : Factor w/ 45 levels \"\",\"\\t?\",\"\\t43\",..: 34 28 21 22 25 29 26 34 23 19 ...\n",
      " $ wc            : Factor w/ 93 levels \"\",\"\\t?\",\"\\t6200\",..: 74 58 72 64 70 74 1 66 90 20 ...\n",
      " $ rc            : Factor w/ 50 levels \"\",\"\\t?\",\"2.1\",..: 36 1 1 21 29 27 1 33 23 19 ...\n",
      " $ htn           : Factor w/ 3 levels \"\",\"no\",\"yes\": 3 2 2 3 2 3 2 2 3 3 ...\n",
      " $ dm            : Factor w/ 6 levels \"\",\" yes\",\"\\tno\",..: 6 5 6 5 5 6 5 6 6 6 ...\n",
      " $ cad           : Factor w/ 4 levels \"\",\"\\tno\",\"no\",..: 3 3 3 3 3 3 3 3 3 3 ...\n",
      " $ appet         : Factor w/ 3 levels \"\",\"good\",\"poor\": 2 2 3 3 2 2 2 2 2 3 ...\n",
      " $ pe            : Factor w/ 3 levels \"\",\"no\",\"yes\": 2 2 2 3 2 3 2 3 2 2 ...\n",
      " $ ane           : Factor w/ 3 levels \"\",\"no\",\"yes\": 2 2 3 3 2 2 2 2 3 3 ...\n",
      " $ classification: Factor w/ 3 levels \"ckd\",\"ckd\\t\",..: 1 1 1 1 1 1 1 1 1 1 ...\n"
     ]
    }
   ],
   "source": [
    "str(df)"
   ]
  },
  {
   "cell_type": "markdown",
   "id": "subsequent-switzerland",
   "metadata": {},
   "source": [
    "###### Data Cleaning"
   ]
  },
  {
   "cell_type": "markdown",
   "id": "residential-preparation",
   "metadata": {},
   "source": [
    "Now, we will try to make all nominal variables containing two catagories into binary variable\n"
   ]
  },
  {
   "cell_type": "code",
   "execution_count": 42,
   "id": "elect-salmon",
   "metadata": {},
   "outputs": [
    {
     "name": "stderr",
     "output_type": "stream",
     "text": [
      "Warning message in eval(expr, envir, enclos):\n",
      "\"NAs introduced by coercion\"Warning message in eval(expr, envir, enclos):\n",
      "\"NAs introduced by coercion\"Warning message in eval(expr, envir, enclos):\n",
      "\"NAs introduced by coercion\""
     ]
    }
   ],
   "source": [
    "ckd <- df\n",
    "\n",
    "#First is the rpc (Red Blood Cells)\n",
    "#Making (Normal -> 1, Abnormal -> 0, No data -> NA)\n",
    "levels(ckd$rbc) <- c(NA,0,1) \n",
    "ckd$rbc <- as.double(as.character(ckd$rbc))\n",
    "\n",
    "#Second is the pc (Pus Cell)\n",
    "#Making (Normal -> 1, Abnormal -> 0, No data -> NA)\n",
    "levels(ckd$pc) <- c(NA,0,1) \n",
    "ckd$pc <- as.double(as.character(ckd$pc))\n",
    "\n",
    "#Third is the pcc (Pus Cell Clumps)\n",
    "#Making (Present -> 1, Not present -> 0, No data -> NA)\n",
    "levels(ckd$pcc) <- c(NA,0,1) \n",
    "ckd$pcc <- as.double(as.character(ckd$pcc))\n",
    "\n",
    "#Forth is the ba (Bacteria)\n",
    "#Making (Present -> 1, Not present -> 0, No data -> NA)\n",
    "levels(ckd$ba) <- c(NA,0,1) \n",
    "ckd$ba <- as.double(as.character(ckd$ba))\n",
    "\n",
    "#Fifth is the htn (Hypertension)\n",
    "#Making (Yes -> 1, No -> 0, No data -> NA)\n",
    "levels(ckd$htn) <- c(NA,0,1) \n",
    "ckd$htn <- as.double(as.character(ckd$htn))\n",
    "\n",
    "#Sixth is the dm (Diabeteis Mellitus)\n",
    "#Making (Yes -> 1, No -> 0, No data -> NA)\n",
    "levels(ckd$dm) <- c(NA, 1, 0, 1, 0, 1) \n",
    "ckd$dm <- as.double(as.character(ckd$dm))\n",
    "\n",
    "#Seventh is the cad (Coronary Artery Disease)\n",
    "#Making (Yes -> 1, No -> 0, No data -> NA)\n",
    "levels(ckd$cad) <- c(NA, 0, 0, 1) \n",
    "ckd$cad <- as.double(as.character(ckd$cad))\n",
    "\n",
    "#Eighth is the appet (Appetite)\n",
    "#Making (Good -> 1, Bad -> 0, No data -> NA)\n",
    "levels(ckd$appet) <- c(NA, 1, 0) \n",
    "ckd$appet <- as.double(as.character(ckd$appet))\n",
    "\n",
    "#Ninth is the pe (Pedal Edema)\n",
    "#Making (Yes -> 1, No -> 0, No data -> NA)\n",
    "levels(ckd$pe) <- c(NA, 0, 1) \n",
    "ckd$pe <- as.double(as.character(ckd$pe))\n",
    "\n",
    "#Tenth is the ane (Anemia)\n",
    "#Making (Yes -> 1, No -> 0, No data -> NA)\n",
    "levels(ckd$ane) <- c(NA, 0, 1) \n",
    "ckd$ane <- as.double(as.character(ckd$ane))\n",
    "\n",
    "#Tenth is the classification (class)\n",
    "#Making (CKD -> 1, No CKD -> 0, No data -> NA)\n",
    "levels(ckd$classification) <- c(1, 1, 0) \n",
    "ckd$classification <- as.double(as.character(ckd$classification))\n",
    "\n",
    "#Eleventh is the pcv (Packed Cell Volume)\n",
    "#Transfering all values into numeric (missing values will be relaced by NAs)\n",
    "ckd$pcv <- as.numeric(as.character(ckd$pcv))\n",
    "\n",
    "#Twelfth is the wc (White Blood Cell Count)\n",
    "#Transfering all values into numeric (missing values will be relaced by NAs)\n",
    "ckd$wc <- as.numeric(as.character(ckd$wc))\n",
    "\n",
    "#Thirteenth is the rc (Red Blood Cell Count)\n",
    "#Transfering all values into numeric (missing values will be relaced by NAs)\n",
    "ckd$rc <- as.numeric(as.character(ckd$rc))"
   ]
  },
  {
   "cell_type": "code",
   "execution_count": 43,
   "id": "adjustable-independence",
   "metadata": {},
   "outputs": [
    {
     "name": "stdout",
     "output_type": "stream",
     "text": [
      "'data.frame':\t400 obs. of  26 variables:\n",
      " $ id            : int  0 1 2 3 4 5 6 7 8 9 ...\n",
      " $ age           : num  48 7 62 48 51 60 68 24 52 53 ...\n",
      " $ bp            : num  80 50 80 70 80 90 70 NA 100 90 ...\n",
      " $ sg            : num  1.02 1.02 1.01 1 1.01 ...\n",
      " $ al            : num  1 4 2 4 2 3 0 2 3 2 ...\n",
      " $ su            : num  0 0 3 0 0 0 0 4 0 0 ...\n",
      " $ rbc           : num  NA NA 1 1 1 NA NA 1 1 0 ...\n",
      " $ pc            : num  1 1 1 0 1 NA 1 0 0 0 ...\n",
      " $ pcc           : num  0 0 0 1 0 0 0 0 1 1 ...\n",
      " $ ba            : num  0 0 0 0 0 0 0 0 0 0 ...\n",
      " $ bgr           : num  121 NA 423 117 106 74 100 410 138 70 ...\n",
      " $ bu            : num  36 18 53 56 26 25 54 31 60 107 ...\n",
      " $ sc            : num  1.2 0.8 1.8 3.8 1.4 1.1 24 1.1 1.9 7.2 ...\n",
      " $ sod           : num  NA NA NA 111 NA 142 104 NA NA 114 ...\n",
      " $ pot           : num  NA NA NA 2.5 NA 3.2 4 NA NA 3.7 ...\n",
      " $ hemo          : num  15.4 11.3 9.6 11.2 11.6 12.2 12.4 12.4 10.8 9.5 ...\n",
      " $ pcv           : num  44 38 31 32 35 39 36 44 33 29 ...\n",
      " $ wc            : num  7800 6000 7500 6700 7300 7800 NA 6900 9600 12100 ...\n",
      " $ rc            : num  5.2 NA NA 3.9 4.6 4.4 NA 5 4 3.7 ...\n",
      " $ htn           : num  1 0 0 1 0 1 0 0 1 1 ...\n",
      " $ dm            : num  1 0 1 0 0 1 0 1 1 1 ...\n",
      " $ cad           : num  0 0 0 0 0 0 0 0 0 0 ...\n",
      " $ appet         : num  1 1 0 0 1 1 1 1 1 0 ...\n",
      " $ pe            : num  0 0 0 1 0 1 0 1 0 0 ...\n",
      " $ ane           : num  0 0 1 1 0 0 0 0 1 1 ...\n",
      " $ classification: num  1 1 1 1 1 1 1 1 1 1 ...\n",
      "NULL\n"
     ]
    }
   ],
   "source": [
    "print(str(ckd))\n",
    "# we can see that all the data now are numeric"
   ]
  },
  {
   "cell_type": "markdown",
   "id": "impaired-graham",
   "metadata": {},
   "source": [
    "###### Dealing with Missing Values"
   ]
  },
  {
   "cell_type": "code",
   "execution_count": 44,
   "id": "indie-behalf",
   "metadata": {},
   "outputs": [
    {
     "data": {
      "text/html": [
       "1012"
      ],
      "text/latex": [
       "1012"
      ],
      "text/markdown": [
       "1012"
      ],
      "text/plain": [
       "[1] 1012"
      ]
     },
     "metadata": {},
     "output_type": "display_data"
    }
   ],
   "source": [
    "sum(is.na(ckd))"
   ]
  },
  {
   "cell_type": "markdown",
   "id": "narrative-functionality",
   "metadata": {},
   "source": [
    "I will replace all the missing values by the mean just not to lose useful information that may exist in each row of these NA values"
   ]
  },
  {
   "cell_type": "markdown",
   "id": "moral-consideration",
   "metadata": {},
   "source": [
    "Remember: in data cleaning part, we didn't add any NA values inside the classification column. Thus, we only have two distinct values in this column: 0 and 1. This column will not be affected in the following set of codes"
   ]
  },
  {
   "cell_type": "code",
   "execution_count": 45,
   "id": "acknowledged-england",
   "metadata": {},
   "outputs": [
    {
     "data": {
      "text/html": [
       "0"
      ],
      "text/latex": [
       "0"
      ],
      "text/markdown": [
       "0"
      ],
      "text/plain": [
       "[1] 0"
      ]
     },
     "metadata": {},
     "output_type": "display_data"
    }
   ],
   "source": [
    "for(col in 1:ncol(ckd)){\n",
    "    ckd[,col] <- ifelse(is.na(ckd[,col]), mean(ckd[,col], na.rm=TRUE), ckd[,col])\n",
    "}\n",
    "sum(is.na(ckd))"
   ]
  },
  {
   "cell_type": "code",
   "execution_count": 46,
   "id": "typical-jungle",
   "metadata": {},
   "outputs": [],
   "source": [
    "# we will also do something. the id column is unneeded as it doesn't provide any meaning in our comparision\n",
    "ckd$id <- NULL"
   ]
  },
  {
   "cell_type": "markdown",
   "id": "extra-puppy",
   "metadata": {},
   "source": [
    "###### Dividing the data"
   ]
  },
  {
   "cell_type": "markdown",
   "id": "owned-diameter",
   "metadata": {},
   "source": [
    "We will divide the dataset into two parts: one for people who has the disease and the other for those who not"
   ]
  },
  {
   "cell_type": "code",
   "execution_count": 47,
   "id": "conservative-species",
   "metadata": {},
   "outputs": [
    {
     "name": "stdout",
     "output_type": "stream",
     "text": [
      "[1] 250  25\n",
      "[1] 150  25\n"
     ]
    }
   ],
   "source": [
    "ckdyes <- ckd[which(ckd$classification == 1),]\n",
    "ckdno <- ckd[which(ckd$classification == 0),]\n",
    "print(dim(ckdyes))\n",
    "print(dim(ckdno))"
   ]
  },
  {
   "cell_type": "markdown",
   "id": "confidential-physiology",
   "metadata": {},
   "source": [
    "We can see that we have 250 observations in the group who has CKD and 150 in the group who doesn't have CKD"
   ]
  },
  {
   "cell_type": "markdown",
   "id": "median-donna",
   "metadata": {},
   "source": [
    "###### Outliers Detection"
   ]
  },
  {
   "cell_type": "markdown",
   "id": "sublime-plane",
   "metadata": {},
   "source": [
    "We will now detect outliers in both groups separatly using the BACON method"
   ]
  },
  {
   "cell_type": "code",
   "execution_count": 48,
   "id": "considerable-situation",
   "metadata": {},
   "outputs": [],
   "source": [
    "require(robustX)\n",
    "library(robustbase)"
   ]
  },
  {
   "cell_type": "markdown",
   "id": "comprehensive-packaging",
   "metadata": {},
   "source": [
    "When I apply the BACON method on my dataset, it gives me an error showing that my dataset is singular. Thus, as it's difficult to detect this dependancy between the rows or columns of the data, I resort to the solution of removing some of the columns. I ended up removing 12 columns from the ckd dataset so that both the ckdyes and ckdno datasets are not singulars. This is a large number which limits the analysis process to only 13 variables"
   ]
  },
  {
   "cell_type": "code",
   "execution_count": 49,
   "id": "intelligent-halloween",
   "metadata": {},
   "outputs": [],
   "source": [
    "ckd$al <- NULL\n",
    "ckd$su <- NULL\n",
    "ckd$rbc <- NULL\n",
    "ckd$pc <- NULL\n",
    "ckd$pcc <- NULL\n",
    "ckd$ba <- NULL\n",
    "ckd$dm <- NULL\n",
    "ckd$cad <- NULL\n",
    "ckd$appet <- NULL\n",
    "ckd$pe <- NULL\n",
    "ckd$ane <- NULL\n",
    "ckd$htn <- NULL"
   ]
  },
  {
   "cell_type": "code",
   "execution_count": 50,
   "id": "light-navigation",
   "metadata": {},
   "outputs": [
    {
     "data": {
      "text/html": [
       "<ol class=list-inline>\n",
       "\t<li>'age'</li>\n",
       "\t<li>'bp'</li>\n",
       "\t<li>'sg'</li>\n",
       "\t<li>'bgr'</li>\n",
       "\t<li>'bu'</li>\n",
       "\t<li>'sc'</li>\n",
       "\t<li>'sod'</li>\n",
       "\t<li>'pot'</li>\n",
       "\t<li>'hemo'</li>\n",
       "\t<li>'pcv'</li>\n",
       "\t<li>'wc'</li>\n",
       "\t<li>'rc'</li>\n",
       "\t<li>'classification'</li>\n",
       "</ol>\n"
      ],
      "text/latex": [
       "\\begin{enumerate*}\n",
       "\\item 'age'\n",
       "\\item 'bp'\n",
       "\\item 'sg'\n",
       "\\item 'bgr'\n",
       "\\item 'bu'\n",
       "\\item 'sc'\n",
       "\\item 'sod'\n",
       "\\item 'pot'\n",
       "\\item 'hemo'\n",
       "\\item 'pcv'\n",
       "\\item 'wc'\n",
       "\\item 'rc'\n",
       "\\item 'classification'\n",
       "\\end{enumerate*}\n"
      ],
      "text/markdown": [
       "1. 'age'\n",
       "2. 'bp'\n",
       "3. 'sg'\n",
       "4. 'bgr'\n",
       "5. 'bu'\n",
       "6. 'sc'\n",
       "7. 'sod'\n",
       "8. 'pot'\n",
       "9. 'hemo'\n",
       "10. 'pcv'\n",
       "11. 'wc'\n",
       "12. 'rc'\n",
       "13. 'classification'\n",
       "\n",
       "\n"
      ],
      "text/plain": [
       " [1] \"age\"            \"bp\"             \"sg\"             \"bgr\"           \n",
       " [5] \"bu\"             \"sc\"             \"sod\"            \"pot\"           \n",
       " [9] \"hemo\"           \"pcv\"            \"wc\"             \"rc\"            \n",
       "[13] \"classification\""
      ]
     },
     "metadata": {},
     "output_type": "display_data"
    }
   ],
   "source": [
    "colnames(ckd)"
   ]
  },
  {
   "cell_type": "code",
   "execution_count": 51,
   "id": "geological-wisdom",
   "metadata": {},
   "outputs": [
    {
     "name": "stdout",
     "output_type": "stream",
     "text": [
      "[1] 250  13\n",
      "[1] 150  13\n"
     ]
    }
   ],
   "source": [
    "ckdyes <- ckd[which(ckd$classification == 1),]\n",
    "ckdno <- ckd[which(ckd$classification == 0),]\n",
    "print(dim(ckdyes))\n",
    "print(dim(ckdno))"
   ]
  },
  {
   "cell_type": "code",
   "execution_count": 52,
   "id": "naughty-paraguay",
   "metadata": {},
   "outputs": [],
   "source": [
    "ckdyes$classification <- NULL #as it doesn't have any meaning now\n",
    "ckdno$classification <- NULL #as it doesn't have any meaning now"
   ]
  },
  {
   "cell_type": "markdown",
   "id": "stretch-religious",
   "metadata": {},
   "source": [
    "Let's now working on the Outlier Detection for the People with CKD"
   ]
  },
  {
   "cell_type": "code",
   "execution_count": 53,
   "id": "czech-wholesale",
   "metadata": {
    "scrolled": true
   },
   "outputs": [
    {
     "name": "stdout",
     "output_type": "stream",
     "text": [
      "rank(ordered.x[1:m,] >= p  ==> chosen m =  48 \n",
      "MV-BACON (subset no. 1): 48 of 250 (19.2 %)\n",
      "MV-BACON (subset no. 2): 175 of 250 (70 %)\n",
      "MV-BACON (subset no. 3): 186 of 250 (74.4 %)\n",
      "MV-BACON (subset no. 4): 190 of 250 (76 %)\n",
      "MV-BACON (subset no. 5): 191 of 250 (76.4 %)\n",
      "MV-BACON (subset no. 6): 191 of 250 (76.4 %)\n"
     ]
    }
   ],
   "source": [
    "ckdyes_mat = as.matrix(ckdyes)\n",
    "yesoutput = mvBACON(ckdyes_mat)"
   ]
  },
  {
   "cell_type": "markdown",
   "id": "reasonable-daughter",
   "metadata": {},
   "source": [
    "Let's now working on the Outlier Detection for the People without CKD"
   ]
  },
  {
   "cell_type": "code",
   "execution_count": 54,
   "id": "preceding-compatibility",
   "metadata": {},
   "outputs": [
    {
     "name": "stdout",
     "output_type": "stream",
     "text": [
      "rank(ordered.x[1:m,] >= p  ==> chosen m =  48 \n",
      "MV-BACON (subset no. 1): 48 of 150 (32 %)\n",
      "MV-BACON (subset no. 2): 144 of 150 (96 %)\n",
      "MV-BACON (subset no. 3): 145 of 150 (96.67 %)\n",
      "MV-BACON (subset no. 4): 145 of 150 (96.67 %)\n"
     ]
    }
   ],
   "source": [
    "ckdno_mat = as.matrix(ckdno)\n",
    "nooutput = mvBACON(ckdno_mat)"
   ]
  },
  {
   "cell_type": "code",
   "execution_count": 55,
   "id": "headed-cookbook",
   "metadata": {
    "scrolled": true
   },
   "outputs": [
    {
     "data": {
      "image/png": "[encoded data removed]",
      "text/plain": [
       "Plot with title \"CKD patients data\""
      ]
     },
     "metadata": {},
     "output_type": "display_data"
    }
   ],
   "source": [
    "#plotting points on the two first column variables\n",
    "plot(ckdyes_mat, pch=19, main = \"CKD patients data\")\n",
    "#Indicating the points that are considered outliers\n",
    "points(ckdyes_mat[ ! yesoutput$subset,], pch = 4, col = 2, cex = 1.5)"
   ]
  },
  {
   "cell_type": "code",
   "execution_count": 56,
   "id": "exceptional-finnish",
   "metadata": {
    "scrolled": true
   },
   "outputs": [
    {
     "data": {
      "image/png": "[encoded data removed]",
      "text/plain": [
       "Plot with title \"No CKD patients data\""
      ]
     },
     "metadata": {},
     "output_type": "display_data"
    }
   ],
   "source": [
    "#plotting points on the two first column variables\n",
    "plot(ckdno_mat, pch=19, main = \"No CKD patients data\")\n",
    "#Indicating the points that are considered outliers\n",
    "points(ckdno_mat[ ! nooutput$subset,], pch = 4, col = 2, cex = 1.5)"
   ]
  },
  {
   "cell_type": "code",
   "execution_count": 57,
   "id": "missing-garbage",
   "metadata": {},
   "outputs": [
    {
     "data": {
      "text/html": [
       "<ol class=list-inline>\n",
       "\t<li>59</li>\n",
       "\t<li>12</li>\n",
       "</ol>\n"
      ],
      "text/latex": [
       "\\begin{enumerate*}\n",
       "\\item 59\n",
       "\\item 12\n",
       "\\end{enumerate*}\n"
      ],
      "text/markdown": [
       "1. 59\n",
       "2. 12\n",
       "\n",
       "\n"
      ],
      "text/plain": [
       "[1] 59 12"
      ]
     },
     "metadata": {},
     "output_type": "display_data"
    },
    {
     "data": {
      "text/html": [
       "<ol class=list-inline>\n",
       "\t<li>5</li>\n",
       "\t<li>12</li>\n",
       "</ol>\n"
      ],
      "text/latex": [
       "\\begin{enumerate*}\n",
       "\\item 5\n",
       "\\item 12\n",
       "\\end{enumerate*}\n"
      ],
      "text/markdown": [
       "1. 5\n",
       "2. 12\n",
       "\n",
       "\n"
      ],
      "text/plain": [
       "[1]  5 12"
      ]
     },
     "metadata": {},
     "output_type": "display_data"
    }
   ],
   "source": [
    "ckd_yes_outliers = ckdyes_mat[ ! yesoutput$subset,]\n",
    "ckd_no_outliers = ckdno_mat[ ! nooutput$subset,]\n",
    "dim(ckd_yes_outliers)\n",
    "dim(ckd_no_outliers)"
   ]
  },
  {
   "cell_type": "code",
   "execution_count": 58,
   "id": "complicated-capitol",
   "metadata": {},
   "outputs": [
    {
     "data": {
      "text/html": [
       "<ol class=list-inline>\n",
       "\t<li>191</li>\n",
       "\t<li>12</li>\n",
       "</ol>\n"
      ],
      "text/latex": [
       "\\begin{enumerate*}\n",
       "\\item 191\n",
       "\\item 12\n",
       "\\end{enumerate*}\n"
      ],
      "text/markdown": [
       "1. 191\n",
       "2. 12\n",
       "\n",
       "\n"
      ],
      "text/plain": [
       "[1] 191  12"
      ]
     },
     "metadata": {},
     "output_type": "display_data"
    },
    {
     "data": {
      "text/html": [
       "<ol class=list-inline>\n",
       "\t<li>145</li>\n",
       "\t<li>12</li>\n",
       "</ol>\n"
      ],
      "text/latex": [
       "\\begin{enumerate*}\n",
       "\\item 145\n",
       "\\item 12\n",
       "\\end{enumerate*}\n"
      ],
      "text/markdown": [
       "1. 145\n",
       "2. 12\n",
       "\n",
       "\n"
      ],
      "text/plain": [
       "[1] 145  12"
      ]
     },
     "metadata": {},
     "output_type": "display_data"
    }
   ],
   "source": [
    "ckd_yes_outlierfree = ckdyes_mat[ yesoutput$subset,]\n",
    "ckd_no_outlierfree = ckdno_mat[ nooutput$subset,]\n",
    "dim(ckd_yes_outlierfree)\n",
    "dim(ckd_no_outlierfree)"
   ]
  },
  {
   "cell_type": "markdown",
   "id": "choice-diana",
   "metadata": {},
   "source": [
    "###### Testing Hypothesises"
   ]
  },
  {
   "cell_type": "markdown",
   "id": "minute-activity",
   "metadata": {},
   "source": [
    "###### First Question: \n",
    "Based on the variables we have, are the available variables sufficient to differentiate between the two groups of people (those who has CKD and those who do not)?"
   ]
  },
  {
   "cell_type": "markdown",
   "id": "reserved-console",
   "metadata": {},
   "source": [
    "To answer this question, we will combare the two groups by comparing their means. If the two means are equal then the two group's features are quite the same and we cannot differetiate between the two groups based on these vairables. However, if the two means are not equal, then, there is some differnece between the two groups which could enable us to use it to differentiate between the two class of people. In our case here, the null hypothesis would be (mu_yes = mu_no). As these values are multivariate, we will test this using Hotling T2 test intead of the usual t-test"
   ]
  },
  {
   "cell_type": "code",
   "execution_count": 59,
   "id": "laughing-principal",
   "metadata": {},
   "outputs": [],
   "source": [
    "# Classical (non-robust) Hotelling T2 test\n",
    "ht2=function(x, y) {\n",
    "    n=dim(x)[1]; m=dim(y)[1]; p=dim(x)[2]\n",
    "    xcov=cov(x); ycov=cov(y)\n",
    "    Sp=(n-1)*xcov+(m-1)*ycov; Sp=Sp/(n+m-2)\n",
    "    xcenter=colMeans(x); ycenter=colMeans(y)\n",
    "    d=xcenter-ycenter\n",
    "    T2=t(d)%*%solve(Sp)%*%d\n",
    "    T2=T2*n*m/(n+m)\n",
    "    F=T2*(n+m-p-1)/(p*(n+m-2))\n",
    "    pv=1-pf(F,p,n+m-p-1)\n",
    "    list(xcenter=xcenter,ycenter=ycenter,xcov=xcov,\n",
    "    ycov=ycov, Sp=Sp,T2=T2,F=F,df=c(p,n+m-p-1),pv=pv)\n",
    "}"
   ]
  },
  {
   "cell_type": "code",
   "execution_count": 60,
   "id": "impaired-little",
   "metadata": {},
   "outputs": [],
   "source": [
    "ht2_out = ht2(ckdyes, ckdno)"
   ]
  },
  {
   "cell_type": "code",
   "execution_count": 61,
   "id": "authorized-effect",
   "metadata": {},
   "outputs": [
    {
     "name": "stdout",
     "output_type": "stream",
     "text": [
      "     [,1]\n",
      "[1,]    0\n"
     ]
    }
   ],
   "source": [
    "print(ht2_out$pv)"
   ]
  },
  {
   "cell_type": "markdown",
   "id": "addressed-mustang",
   "metadata": {},
   "source": [
    "Here, we can see that the p-value is zero which is less than 0.05 the significance level. Thus, we can reject the null hypothesis and say that there is a difference between the two groups of people"
   ]
  },
  {
   "cell_type": "code",
   "execution_count": 62,
   "id": "streaming-treasurer",
   "metadata": {},
   "outputs": [],
   "source": [
    "ht2_outlierfree = ht2(ckd_yes_outlierfree, ckd_no_outlierfree)"
   ]
  },
  {
   "cell_type": "code",
   "execution_count": 63,
   "id": "medium-lying",
   "metadata": {},
   "outputs": [
    {
     "data": {
      "text/html": [
       "<table>\n",
       "<tbody>\n",
       "\t<tr><td>0</td></tr>\n",
       "</tbody>\n",
       "</table>\n"
      ],
      "text/latex": [
       "\\begin{tabular}{l}\n",
       "\t 0\\\\\n",
       "\\end{tabular}\n"
      ],
      "text/markdown": [
       "\n",
       "| 0 |\n",
       "\n"
      ],
      "text/plain": [
       "     [,1]\n",
       "[1,] 0   "
      ]
     },
     "metadata": {},
     "output_type": "display_data"
    }
   ],
   "source": [
    "ht2_outlierfree$pv"
   ]
  },
  {
   "cell_type": "markdown",
   "id": "spatial-brisbane",
   "metadata": {},
   "source": [
    "The test without the ouliers yeilds the same p-value which gives the same result that there is a difference between the two groups of people"
   ]
  },
  {
   "cell_type": "markdown",
   "id": "ordinary-springfield",
   "metadata": {},
   "source": [
    "###### Second Question\n",
    "Does Age contribute or relate to having a CKD?"
   ]
  },
  {
   "cell_type": "markdown",
   "id": "gothic-uncle",
   "metadata": {},
   "source": [
    "The null hypothesis here would be that the avergae age in the two groups are the same (muage_yes = muage_no). Otherwise, that would be the altenative hypothesis. "
   ]
  },
  {
   "cell_type": "markdown",
   "id": "major-coordination",
   "metadata": {},
   "source": [
    "To do that, we will carry out a t-test in which we will run a two-sided test and then if t > t_alpha_over_2, then we reject the null hypothesis. otherwise, we will not be able to reject it"
   ]
  },
  {
   "cell_type": "markdown",
   "id": "numerical-reward",
   "metadata": {},
   "source": [
    "First, let's start with the data that contains the outliers"
   ]
  },
  {
   "cell_type": "code",
   "execution_count": 64,
   "id": "experienced-carroll",
   "metadata": {},
   "outputs": [
    {
     "name": "stdout",
     "output_type": "stream",
     "text": [
      "[1] 4.615605\n",
      "[1] 1.965942\n"
     ]
    }
   ],
   "source": [
    "# TWO SIDED TEST\n",
    "age_yesbar = mean(ckdyes$age)\n",
    "age_nobar = mean(ckdno$age)\n",
    "s_ageyes = sd(ckdyes$age)\n",
    "s_ageno = sd(ckdno$age)\n",
    "n_yes = length(ckdyes$age)\n",
    "n_no = length(ckdno$age)\n",
    "s_pooled = sqrt(((n_no -1)*s_ageno^2 + (n_yes -1)*s_ageyes^2)/(n_yes+n_no-2))\n",
    "t =  (age_yesbar - age_nobar)/(s_pooled*sqrt(1/n_no + 1/n_yes))\n",
    "alpha = 0.05\n",
    "t_alpha_over_2 = qt(alpha/2, df=n_yes+n_no-2, lower.tail=FALSE)\n",
    "print(t)\n",
    "print(t_alpha_over_2)"
   ]
  },
  {
   "cell_type": "markdown",
   "id": "casual-vessel",
   "metadata": {},
   "source": [
    "t = 4.615<br>\n",
    "t_alpha_over_2 = 1.966<br>\n",
    "we can see that t > t_alpha_over_2. Thus, we can reject the null hypothesis and say that age has some relation with the Chronic Kidney Disease. "
   ]
  },
  {
   "cell_type": "markdown",
   "id": "hollow-implementation",
   "metadata": {},
   "source": [
    "Now, Let's add a question here: DOES CKD PEOPLE ARE OLDER THAN NO_CKD PEOPLE??<br>\n",
    "To test this, we need to carry out a one sided test in which the null hypothesis would be muage_ckd <= muage_nockd whereas the alternative hypothesis would be muage_ckd > muage_nockd"
   ]
  },
  {
   "cell_type": "code",
   "execution_count": 65,
   "id": "corporate-footwear",
   "metadata": {},
   "outputs": [
    {
     "name": "stdout",
     "output_type": "stream",
     "text": [
      "[1] 4.615605\n",
      "[1] 1.648691\n"
     ]
    }
   ],
   "source": [
    "# ONE SIDED TEST\n",
    "# the null hypothsis will be rejected if t > t_alpha_over_2\n",
    "age_yesbar = mean(ckdyes$age)\n",
    "age_nobar = mean(ckdno$age)\n",
    "s_ageyes = sd(ckdyes$age)\n",
    "s_ageno = sd(ckdno$age)\n",
    "n_yes = length(ckdyes$age)\n",
    "n_no = length(ckdno$age)\n",
    "s_pooled = sqrt(((n_no -1)*s_ageno^2 + (n_yes -1)*s_ageyes^2)/(n_yes+n_no-2))\n",
    "t =  (age_yesbar - age_nobar)/(s_pooled*sqrt(1/n_no + 1/n_yes))\n",
    "alpha = 0.05\n",
    "t_alpha = qt(alpha, df=n_yes+n_no-2, lower.tail=FALSE)\n",
    "print(t)\n",
    "print(t_alpha)"
   ]
  },
  {
   "cell_type": "markdown",
   "id": "naughty-modem",
   "metadata": {},
   "source": [
    "t > t_alpha which indicates that people with CKD are older than people without CKD"
   ]
  },
  {
   "cell_type": "markdown",
   "id": "digital-pixel",
   "metadata": {},
   "source": [
    "Now, let's try this with the outliers removed"
   ]
  },
  {
   "cell_type": "code",
   "execution_count": 66,
   "id": "advanced-smell",
   "metadata": {},
   "outputs": [
    {
     "name": "stdout",
     "output_type": "stream",
     "text": [
      "[1] 4.4248\n",
      "[1] 1.967092\n"
     ]
    }
   ],
   "source": [
    "# TWO SIDED TEST\n",
    "ckd_yes_outlierfree = as.data.frame(ckd_yes_outlierfree)\n",
    "ckd_no_outlierfree = as.data.frame(ckd_no_outlierfree)\n",
    "\n",
    "age_yesbar = mean(ckd_yes_outlierfree$age)\n",
    "age_nobar = mean(ckd_no_outlierfree$age)\n",
    "\n",
    "s_ageyes = sd(ckd_yes_outlierfree$age)\n",
    "s_ageno = sd(ckd_no_outlierfree$age)\n",
    "\n",
    "n_yes = length(ckd_yes_outlierfree$age)\n",
    "n_no = length(ckd_no_outlierfree$age)\n",
    "\n",
    "s_pooled = sqrt(((n_no -1)*s_ageno^2 + (n_yes -1)*s_ageyes^2)/(n_yes+n_no-2))\n",
    "\n",
    "t =  (age_yesbar - age_nobar)/(s_pooled*sqrt(1/n_no + 1/n_yes))\n",
    "\n",
    "alpha = 0.05\n",
    "t_alpha_over_2 = qt(alpha/2, df=n_yes+n_no-2, lower.tail=FALSE)\n",
    "\n",
    "print(t)\n",
    "print(t_alpha_over_2)"
   ]
  },
  {
   "cell_type": "markdown",
   "id": "applicable-briefing",
   "metadata": {},
   "source": [
    "t = 4.4248 which less than that t when the outliers are there. <br>\n",
    "p-value = 1.967<br>\n",
    "Thus, we can still reject the null hypothesis and say that age is different in the two groups which means there might be a relation between age and CKD"
   ]
  },
  {
   "cell_type": "markdown",
   "id": "incorrect-gambling",
   "metadata": {},
   "source": [
    "Let's another the more important question asked above (DOES CKD PEOPLE ARE OLDER THAN NO_CKD PEOPLE??) but here when the outliers are removed"
   ]
  },
  {
   "cell_type": "code",
   "execution_count": 67,
   "id": "ahead-straight",
   "metadata": {},
   "outputs": [
    {
     "name": "stdout",
     "output_type": "stream",
     "text": [
      "[1] 4.4248\n",
      "[1] 1.649429\n"
     ]
    }
   ],
   "source": [
    "# ONE SIDED TEST\n",
    "ckd_yes_outlierfree = as.data.frame(ckd_yes_outlierfree)\n",
    "ckd_no_outlierfree = as.data.frame(ckd_no_outlierfree)\n",
    "\n",
    "age_yesbar = mean(ckd_yes_outlierfree$age)\n",
    "age_nobar = mean(ckd_no_outlierfree$age)\n",
    "\n",
    "s_ageyes = sd(ckd_yes_outlierfree$age)\n",
    "s_ageno = sd(ckd_no_outlierfree$age)\n",
    "\n",
    "n_yes = length(ckd_yes_outlierfree$age)\n",
    "n_no = length(ckd_no_outlierfree$age)\n",
    "\n",
    "s_pooled = sqrt(((n_no -1)*s_ageno^2 + (n_yes -1)*s_ageyes^2)/(n_yes+n_no-2))\n",
    "\n",
    "t =  (age_yesbar - age_nobar)/(s_pooled*sqrt(1/n_no + 1/n_yes))\n",
    "\n",
    "alpha = 0.05\n",
    "t_alpha = qt(alpha, df=n_yes+n_no-2, lower.tail=FALSE)\n",
    "\n",
    "print(t)\n",
    "print(t_alpha)"
   ]
  },
  {
   "cell_type": "markdown",
   "id": "industrial-representative",
   "metadata": {},
   "source": [
    "The results also indicates a difference"
   ]
  },
  {
   "cell_type": "markdown",
   "id": "simplified-telephone",
   "metadata": {},
   "source": [
    "###### Third Question\n",
    "Does Blood Pressure relate or contribute to having a CKD?"
   ]
  },
  {
   "cell_type": "markdown",
   "id": "packed-sharing",
   "metadata": {},
   "source": [
    "Here, we will do the same thing as the second question but with the Blood Pressue instead of Age."
   ]
  },
  {
   "cell_type": "markdown",
   "id": "psychological-mixture",
   "metadata": {},
   "source": [
    "So, first, let's start with the outlier-free dataset and test it"
   ]
  },
  {
   "cell_type": "code",
   "execution_count": 68,
   "id": "hollow-identity",
   "metadata": {},
   "outputs": [
    {
     "name": "stdout",
     "output_type": "stream",
     "text": [
      "[1] 6.058927\n",
      "[1] 1.965942\n"
     ]
    }
   ],
   "source": [
    "# TWO SIDED TEST\n",
    "bp_yesbar = mean(ckdyes$bp)\n",
    "bp_nobar = mean(ckdno$bp)\n",
    "s_bpyes = sd(ckdyes$bp)\n",
    "s_bpno = sd(ckdno$bp)\n",
    "n_yes = length(ckdyes$bp)\n",
    "n_no = length(ckdno$bp)\n",
    "s_pooled = sqrt(((n_no -1)*s_bpno^2 + (n_yes -1)*s_bpyes^2)/(n_yes+n_no-2))\n",
    "t =  (bp_yesbar - bp_nobar)/(s_pooled*sqrt(1/n_no + 1/n_yes))\n",
    "alpha = 0.05\n",
    "t_alpha_over_2 = qt(alpha/2, df=n_yes+n_no-2, lower.tail=FALSE)\n",
    "print(t)\n",
    "print(t_alpha_over_2)"
   ]
  },
  {
   "cell_type": "markdown",
   "id": "latin-large",
   "metadata": {},
   "source": [
    "t = 6.059\n",
    "t_alpha_over_2 = 1.966\n",
    "Here, we can see that t > t_alpha_over_2 by a large number which indicates there is a significant different between the two groups with respect to their blood pressure. Thus, there is a relationship between blood pressure and having a CKD"
   ]
  },
  {
   "cell_type": "markdown",
   "id": "ready-dressing",
   "metadata": {},
   "source": [
    "Let's ask the important question now: DOES PEOPLE WITH CKD HAVE HIGHER BLOOD PRESSURE THAN THOSE WITHOUT CKD??<br>\n",
    "To answer this, we will do the same as the second question. we will run a one sided test"
   ]
  },
  {
   "cell_type": "code",
   "execution_count": 69,
   "id": "grave-stable",
   "metadata": {},
   "outputs": [
    {
     "name": "stdout",
     "output_type": "stream",
     "text": [
      "[1] 6.058927\n",
      "[1] 1.648691\n"
     ]
    }
   ],
   "source": [
    "# ONE SIDED TEST\n",
    "bp_yesbar = mean(ckdyes$bp)\n",
    "bp_nobar = mean(ckdno$bp)\n",
    "s_bpyes = sd(ckdyes$bp)\n",
    "s_bpno = sd(ckdno$bp)\n",
    "n_yes = length(ckdyes$bp)\n",
    "n_no = length(ckdno$bp)\n",
    "s_pooled = sqrt(((n_no -1)*s_bpno^2 + (n_yes -1)*s_bpyes^2)/(n_yes+n_no-2))\n",
    "t =  (bp_yesbar - bp_nobar)/(s_pooled*sqrt(1/n_no + 1/n_yes))\n",
    "alpha = 0.05\n",
    "t_alpha = qt(alpha, df=n_yes+n_no-2, lower.tail=FALSE)\n",
    "print(t)\n",
    "print(t_alpha)"
   ]
  },
  {
   "cell_type": "markdown",
   "id": "daily-romania",
   "metadata": {},
   "source": [
    "The results here shows a large difference (t > t_alpha). Thus, this indicates tha people with CKD have higher blood pressure than those without CKD"
   ]
  },
  {
   "cell_type": "markdown",
   "id": "brazilian-runner",
   "metadata": {},
   "source": [
    "Now, let's try the dataset that doesn't include outliers"
   ]
  },
  {
   "cell_type": "code",
   "execution_count": 70,
   "id": "entertaining-italy",
   "metadata": {},
   "outputs": [
    {
     "name": "stdout",
     "output_type": "stream",
     "text": [
      "[1] 5.312237\n",
      "[1] 1.967092\n"
     ]
    }
   ],
   "source": [
    "# TWO SIDED TEST\n",
    "ckd_yes_outlierfree = as.data.frame(ckd_yes_outlierfree)\n",
    "ckd_no_outlierfree = as.data.frame(ckd_no_outlierfree)\n",
    "\n",
    "bp_yesbar = mean(ckd_yes_outlierfree$bp)\n",
    "bp_nobar = mean(ckd_no_outlierfree$bp)\n",
    "\n",
    "s_bpyes = sd(ckd_yes_outlierfree$bp)\n",
    "s_bpno = sd(ckd_no_outlierfree$bp)\n",
    "\n",
    "n_yes = length(ckd_yes_outlierfree$bp)\n",
    "n_no = length(ckd_no_outlierfree$bp)\n",
    "\n",
    "s_pooled = sqrt(((n_no -1)*s_bpno^2 + (n_yes -1)*s_bpyes^2)/(n_yes+n_no-2))\n",
    "\n",
    "t =  (bp_yesbar - bp_nobar)/(s_pooled*sqrt(1/n_no + 1/n_yes))\n",
    "\n",
    "alpha = 0.05\n",
    "t_alpha_over_2 = qt(alpha/2, df=n_yes+n_no-2, lower.tail=FALSE)\n",
    "\n",
    "print(t)\n",
    "print(t_alpha_over_2)"
   ]
  },
  {
   "cell_type": "markdown",
   "id": "formed-olive",
   "metadata": {},
   "source": [
    "Although the t decreased than before, it's still greater than t_alpha_over_2 (1.96) which indicates that there is a difference between the two groups with respect to blood pressue."
   ]
  },
  {
   "cell_type": "markdown",
   "id": "signed-staff",
   "metadata": {},
   "source": [
    "Now, let's anser this: DOES PEOPLE WITH CKD HAVE HIGHER BLOOD PRESSURE THAN THOSE WITHOUT CKD??<br>"
   ]
  },
  {
   "cell_type": "code",
   "execution_count": 71,
   "id": "developed-genetics",
   "metadata": {},
   "outputs": [
    {
     "name": "stdout",
     "output_type": "stream",
     "text": [
      "[1] 5.312237\n",
      "[1] 1.649429\n"
     ]
    }
   ],
   "source": [
    "# ONE SIDED TEST\n",
    "ckd_yes_outlierfree = as.data.frame(ckd_yes_outlierfree)\n",
    "ckd_no_outlierfree = as.data.frame(ckd_no_outlierfree)\n",
    "\n",
    "bp_yesbar = mean(ckd_yes_outlierfree$bp)\n",
    "bp_nobar = mean(ckd_no_outlierfree$bp)\n",
    "\n",
    "s_bpyes = sd(ckd_yes_outlierfree$bp)\n",
    "s_bpno = sd(ckd_no_outlierfree$bp)\n",
    "\n",
    "n_yes = length(ckd_yes_outlierfree$bp)\n",
    "n_no = length(ckd_no_outlierfree$bp)\n",
    "\n",
    "s_pooled = sqrt(((n_no -1)*s_bpno^2 + (n_yes -1)*s_bpyes^2)/(n_yes+n_no-2))\n",
    "\n",
    "t =  (bp_yesbar - bp_nobar)/(s_pooled*sqrt(1/n_no + 1/n_yes))\n",
    "\n",
    "alpha = 0.05\n",
    "t_alpha = qt(alpha, df=n_yes+n_no-2, lower.tail=FALSE)\n",
    "\n",
    "print(t)\n",
    "print(t_alpha)"
   ]
  },
  {
   "cell_type": "markdown",
   "id": "electrical-repository",
   "metadata": {},
   "source": [
    "t > t_alpha too"
   ]
  },
  {
   "cell_type": "markdown",
   "id": "competitive-motor",
   "metadata": {},
   "source": [
    "### Summary and conclusions"
   ]
  },
  {
   "cell_type": "markdown",
   "id": "hungry-sacrifice",
   "metadata": {},
   "source": [
    "##### First Conclusion\n",
    "With respect to the twelve variables we are analyzing, there is a difference between the two groups (people who have the CKD and those who don't). Thus, we can use these variable to predict whehter a person gets a CKD or not, as these variables as whole are significant with respect to who gets the disease."
   ]
  },
  {
   "cell_type": "markdown",
   "id": "explicit-assignment",
   "metadata": {},
   "source": [
    "##### Second Conclusion\n",
    "The two groups of people has different average ages which indicates that age could be corrolated to the existance of CKD. We showed also that People with CKD are older than people without CKD"
   ]
  },
  {
   "cell_type": "markdown",
   "id": "timely-organizer",
   "metadata": {},
   "source": [
    "##### Third Conclusion\n",
    "There is a difference in blood pressure between the two groups of people. We showed also that People with CKD has higher blood pressure than people without CKD"
   ]
  }
 ],
 "metadata": {
  "kernelspec": {
   "display_name": "R",
   "language": "R",
   "name": "ir"
  },
  "language_info": {
   "codemirror_mode": "r",
   "file_extension": ".r",
   "mimetype": "text/x-r-source",
   "name": "R",
   "pygments_lexer": "r",
   "version": "3.6.1"
  }
 },
 "nbformat": 4,
 "nbformat_minor": 5
}
